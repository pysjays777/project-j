{
  "nbformat": 4,
  "nbformat_minor": 0,
  "metadata": {
    "colab": {
      "provenance": [],
      "toc_visible": true,
      "authorship_tag": "ABX9TyP9I5dUQ/ptLSaVR1JVLFgs",
      "include_colab_link": true
    },
    "kernelspec": {
      "name": "python3",
      "display_name": "Python 3"
    },
    "language_info": {
      "name": "python"
    }
  },
  "cells": [
    {
      "cell_type": "markdown",
      "metadata": {
        "id": "view-in-github",
        "colab_type": "text"
      },
      "source": [
        "<a href=\"https://colab.research.google.com/github/pysjays777/project-j/blob/main/Project_J.ipynb\" target=\"_parent\"><img src=\"https://colab.research.google.com/assets/colab-badge.svg\" alt=\"Open In Colab\"/></a>"
      ]
    },
    {
      "cell_type": "code",
      "execution_count": null,
      "metadata": {
        "id": "nj3lypr0Wn07"
      },
      "outputs": [],
      "source": [
        "import pandas as pd\n",
        "import gspread\n",
        "from google.oauth2.service_account import Credentials\n",
        "from gspread_dataframe import set_with_dataframe, get_as_dataframe\n",
        "\n",
        "scopes = ['https://www.googleapis.com/auth/spreadsheets']\n",
        "creds = Credentials.from_service_account_file(\n",
        "    r\"C:\\Users\\oem\\Desktop\\Learning journey\\my.json\",\n",
        "    scopes=scopes\n",
        ")\n",
        "gc = gspread.authorize(creds)\n",
        "\n",
        "sh1 = gc.open_by_key(\"1bDoPogywjpAu47VQmjJRzNcG3p4M7iScRKfAv8KokAI\")\n",
        "ws1 = sh1.worksheet(\"Sheet1\")\n",
        "df1 = get_as_dataframe(ws1)\n",
        "print(df1)\n",
        "df1 = df1[['symbol', 'Price', 'Change_%', 'Volume_USDT']]\n",
        "df1['Source'] = 'Targerted Sheet 1'\n",
        "\n",
        "sh2 = gc.open_by_key(\"1wfuz34LxJKEB15oEvxyIq7jE8lnltNqB7bFRJvshJMU\")\n",
        "ws2 = sh2.worksheet(\"Sheet1\")\n",
        "df2 = get_as_dataframe(ws2)\n",
        "print(df2)\n",
        "df2 = df2[['symbol', 'Price', 'Change_%', 'Volume_USDT']]\n",
        "df2['Source'] = 'Targerted Sheet 2'\n",
        "\n",
        "sh3 = gc.open_by_key(\"13es3JOoZtuvwoYdKqCSGwsfhaouAoQsw_8PJYkG74ZI\")\n",
        "ws3 = sh3.worksheet(\"Sheet1\")\n",
        "df3 = get_as_dataframe(ws3)\n",
        "print(df3)\n",
        "df3 = df3[['symbol', 'Price', 'Change_%', 'Volume_USDT']]\n",
        "df3['Source'] = 'Targerted Sheet 3'\n",
        "\n",
        "merged = pd.concat([df1, df2, df3], ignore_index=True)\n",
        "merged['rowid'] = merged.index + 1\n",
        "\n",
        "sh_dashboard = gc.open_by_key(\"15lD_Jp4xuFmacTMsFvcgOUpzrL5pdAO7uO4elMfe8rI\")\n",
        "try:\n",
        "    ws_dashboard = sh_dashboard.worksheet(\"Dashboard\")\n",
        "except gspread.WorksheetNotFound:\n",
        "    ws_dashboard = sh_dashboard.add_worksheet(title=\"Dashboard\", rows=\"1000\", cols=\"30\")\n",
        "\n",
        "set_with_dataframe(ws_dashboard, merged)\n",
        "print(\" Data written to Main Dashboard\")"
      ]
    },
    {
      "cell_type": "markdown",
      "source": [
        "Import Data from Binance API"
      ],
      "metadata": {
        "id": "atd2f-FvW74M"
      }
    },
    {
      "cell_type": "code",
      "source": [
        "from pathlib import Path\n",
        "import requests\n",
        "import pandas as pd\n",
        "import os, pathlib\n",
        "import gspread\n",
        "from google.oauth2.service_account import Credentials\n",
        "from gspread_dataframe import set_with_dataframe\n",
        "\n",
        "scopes = ['https://www.googleapis.com/auth/spreadsheets']\n",
        "creds = Credentials.from_service_account_file(\n",
        "    r\"C:\\Users\\oem\\Desktop\\Learning journey\\my.json\",\n",
        "    scopes=scopes\n",
        ")\n",
        "\n",
        "gc = gspread.authorize(creds)\n",
        "sh = gc.open_by_key(\"1bDoPogywjpAu47VQmjJRzNcG3p4M7iScRKfAv8KokAI\")\n",
        "worksheet = sh.worksheet(\"Sheet1\")\n",
        "\n",
        "\n",
        "\n",
        "url = 'https://api.binance.com/api/v3/ticker/24hr'\n",
        "response = requests.get(url)\n",
        "data = response.json()\n",
        "coins_i_want = ['BTCUSDT','ETHUSDT','ADAUSDT','PEPEUSDT','PIUSDT','XRPUSDT','SOLUSDT']\n",
        "filtered_data = [ {key: item[key] for key in ['symbol','lastPrice', 'priceChangePercent','volume','quoteVolume']}\n",
        "                 for item in data if item['symbol'] in coins_i_want]\n",
        "df = pd.DataFrame(filtered_data)\n",
        "\n",
        "\n",
        "df.rename(columns={\n",
        "   'lastPrice': 'Price',\n",
        "   'priceChangePercent': 'Change_%',\n",
        "   'quoteVolume': 'Volume_USDT',\n",
        "   'volume': 'Volume_coin',}, inplace=True)\n",
        "\n",
        "\n",
        "cols = ['Volume_USDT','Volume_coin']\n",
        "df[cols] = df[cols].astype(float).round(0).astype(int)\n",
        "\n",
        "\n",
        "cols_to_format = ['Volume_USDT','Volume_coin']\n",
        "df[cols_to_format] = df[cols_to_format].applymap(lambda x: '{:,}'.format(x))\n",
        "\n",
        "\n",
        "print(df)\n",
        "print(df.dtypes)\n",
        "\n",
        "out_dir  = Path(r\"C:\\Users\\oem\\Desktop\\Learning journey\")\n",
        "out_dir.mkdir(parents=True, exist_ok=True)\n",
        "\n",
        "out_file = out_dir / \"binancetest.csv\"\n",
        "\n",
        "df.to_csv(out_file, index=False)\n",
        "print(\" Data saved to:\", out_file)\n",
        "\n",
        "set_with_dataframe(worksheet, df)\n",
        "print(\" Data written to Google Sheets\")"
      ],
      "metadata": {
        "id": "bZuMrRV3W9AA"
      },
      "execution_count": null,
      "outputs": []
    }
  ]
}
