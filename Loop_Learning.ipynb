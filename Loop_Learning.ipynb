{
  "cells": [
    {
      "cell_type": "markdown",
      "metadata": {
        "id": "view-in-github",
        "colab_type": "text"
      },
      "source": [
        "<a href=\"https://colab.research.google.com/github/pysjays777/project-j/blob/main/Loop_Learning.ipynb\" target=\"_parent\"><img src=\"https://colab.research.google.com/assets/colab-badge.svg\" alt=\"Open In Colab\"/></a>"
      ]
    },
    {
      "cell_type": "code",
      "id": "initial_id",
      "metadata": {
        "collapsed": true,
        "ExecuteTime": {
          "end_time": "2025-05-28T02:19:18.677477Z",
          "start_time": "2025-05-28T02:19:18.673494Z"
        },
        "id": "initial_id"
      },
      "source": [
        "class Account:\n",
        "    def __init__(self,owner: str, initial_balance: float = 0.0):\n",
        "        if initial_balance < 0:\n",
        "            raise ValueError(\"Not less than 0\")\n",
        "        self.owner = owner\n",
        "        self.balance = initial_balance\n",
        "\n",
        "class User:\n",
        "    def __init__(self, username):\n",
        "        self.username = username\n",
        "    def greet_user(self):\n",
        "        print(\"Hello \" + self.username)\n",
        "\n",
        "jayden = Account(\"Jayden\", 100000)"
      ],
      "outputs": [],
      "execution_count": null
    },
    {
      "metadata": {
        "ExecuteTime": {
          "end_time": "2025-05-28T02:30:09.289654Z",
          "start_time": "2025-05-28T02:30:09.283395Z"
        },
        "id": "c4a2fa36c9abc061",
        "outputId": "459ab348-f4b4-472d-efd3-de728d84abea"
      },
      "cell_type": "code",
      "source": [
        "class Person:\n",
        "    def __init__(self,name:str, age:int):\n",
        "        self.name = name\n",
        "        if not isinstance(age, int):\n",
        "            try:\n",
        "                age = int(age)\n",
        "            except (TypeError, ValueError):\n",
        "                raise ValueError(\"Not an integer\")\n",
        "        self.age = age\n",
        "        if age > 95:\n",
        "            raise ValueError(\"Too old\")\n",
        "\n",
        "    def introduce(self):\n",
        "        print(f\"你们好，我是{self.name}, 今年{self.age}岁。\")\n",
        "\n",
        "hobak = Person(\"Hobak\", 25)\n",
        "jayden = Person(\"Jayden\", 74)\n",
        "hobak2 = Person(\"Hobak2\", 94)\n",
        "\n",
        "hobak.introduce()\n",
        "jayden.introduce()\n",
        "hobak2.introduce()"
      ],
      "id": "c4a2fa36c9abc061",
      "outputs": [
        {
          "name": "stdout",
          "output_type": "stream",
          "text": [
            "你们好，我是Hobak, 今年25岁。\n",
            "你们好，我是Jayden, 今年74岁。\n",
            "你们好，我是Hobak2, 今年94岁。\n"
          ]
        }
      ],
      "execution_count": null
    },
    {
      "metadata": {
        "ExecuteTime": {
          "end_time": "2025-05-28T02:57:56.226369Z",
          "start_time": "2025-05-28T02:57:56.222990Z"
        },
        "id": "81f56019f5483281",
        "outputId": "8519579f-6699-4a82-e749-4959f7863600"
      },
      "cell_type": "code",
      "source": [
        "from enum import Enum\n",
        "\n",
        "Month = Enum('Month',('jan','feb','mar','apr','may','jun'))\n",
        "\n",
        "for name, member in Month.__members__.items():\n",
        "    print(name,'---------', member,'------------',member.value)\n",
        "\n",
        "print('\\n', Month.jan)"
      ],
      "id": "81f56019f5483281",
      "outputs": [
        {
          "name": "stdout",
          "output_type": "stream",
          "text": [
            "jan --------- Month.jan ------------ 1\n",
            "feb --------- Month.feb ------------ 2\n",
            "mar --------- Month.mar ------------ 3\n",
            "apr --------- Month.apr ------------ 4\n",
            "may --------- Month.may ------------ 5\n",
            "jun --------- Month.jun ------------ 6\n",
            "\n",
            " Month.jan\n"
          ]
        }
      ],
      "execution_count": null
    },
    {
      "metadata": {
        "ExecuteTime": {
          "end_time": "2025-05-28T05:52:05.724983Z",
          "start_time": "2025-05-28T05:52:05.691351Z"
        },
        "id": "ab4465015f0916db",
        "outputId": "ae3f84bb-9766-4a4f-dcfb-c152701e6a20"
      },
      "cell_type": "code",
      "source": [
        "import csv\n",
        "\n",
        "def average_user_rating(filepath):\n",
        "    sum_rating = 0.0 #var\n",
        "    count = 0 #var\n",
        "    with open(filepath, newline='', encoding='utf-8') as apple: #这里的withopen要直接填filepath\n",
        "        reader = csv.DictReader(apple) #然后这里assign一个variable\n",
        "        for row in reader:\n",
        "            rating = float(row['user_rating']) #这里就是核心操作，主要把user_rating 的data转成小数点，方便计算平均分\n",
        "            sum_rating += rating #这里也是，这里直接把rating,就上一行的variables给加起来，这里的概念要说你已经把user_rating给拿出来了，然后再assign一个新的variable去做下一步操作，这里的 += 就是把全部给加起来\n",
        "            count += 1 #这里就是算有多少行就除于多少\n",
        "            pass\n",
        "\n",
        "    average = sum_rating / count\n",
        "    print(f\"Average rating is: {average:.2f}\") #这里的.2f的意思是把它变成.2的decimal point，方便看\n",
        "\n",
        "average_user_rating(r'C:\\Users\\haojie.ho\\Desktop\\Python learning\\AppleStore.csv') #调用方法直接打def的名字然后你看你的括号里放了什么参数，就跟着参数放\n",
        "\n",
        "#keytakeaway，先读写csvfile后，用withopen然后filepath，然后newline，然后用encoding utf-8, as 你喜欢的字:\n",
        "\n",
        "#注意 dictreader是csv的其中一个function也就是拿来读里面的data的\n",
        "\n",
        "#然后你看你要做什么，就先assign相对应的variable出来，在读csvfile之前，比如sum_rating 和 count，因为主要的目的是拿来算全部apps的平均分所以就要找出 总数 和 总行数"
      ],
      "id": "ab4465015f0916db",
      "outputs": [
        {
          "name": "stdout",
          "output_type": "stream",
          "text": [
            "Average rating is: 3.53\n"
          ]
        }
      ],
      "execution_count": null
    },
    {
      "metadata": {
        "ExecuteTime": {
          "end_time": "2025-05-28T06:00:05.664299Z",
          "start_time": "2025-05-28T06:00:05.628644Z"
        },
        "id": "921d5d582ebcf75",
        "outputId": "d01653e3-06b9-4527-aacf-cdf336438509"
      },
      "cell_type": "code",
      "source": [
        "import csv\n",
        "\n",
        "def count_price_ranges(filepath):\n",
        "    free_count = low_price = mid_price = high_price = 0 #这里是给count的variables先添加一个占位\n",
        "\n",
        "    with open(filepath, newline='', encoding='utf-8') as apple:\n",
        "        reader = csv.DictReader(apple)\n",
        "        for row in reader:\n",
        "            price = float(row['price'])\n",
        "            if price == 0:\n",
        "                free_count += 1 #因为这里要算有多少个free game，所以这里就要用count，遇到一次 1，就加一次，所以这样的话可以很明显看到有多少个\n",
        "            elif price <= 1:\n",
        "                low_price += 1\n",
        "            elif price <= 3:\n",
        "                mid_price += 1\n",
        "            else:\n",
        "                high_price += 1\n",
        "\n",
        "        print(\"Free game\",free_count)\n",
        "        print(\"Low game\",low_price)\n",
        "        print(\"Mid game\",mid_price)\n",
        "        print(\"High game\",high_price)\n",
        "\n",
        "count_price_ranges(r'C:\\Users\\haojie.ho\\Desktop\\Python learning\\AppleStore.csv')\n"
      ],
      "id": "921d5d582ebcf75",
      "outputs": [
        {
          "name": "stdout",
          "output_type": "stream",
          "text": [
            "Free game 4056\n",
            "Low game 728\n",
            "Mid game 1304\n",
            "High game 1109\n"
          ]
        }
      ],
      "execution_count": null
    },
    {
      "metadata": {
        "ExecuteTime": {
          "end_time": "2025-05-28T06:31:26.695467Z",
          "start_time": "2025-05-28T06:31:26.668276Z"
        },
        "id": "e77413792af1a762",
        "outputId": "91029ef2-9d53-497c-97c9-b6372dea5bf2"
      },
      "cell_type": "code",
      "source": [
        "import csv\n",
        "\n",
        "def rating_total(filepath):\n",
        "    result = [] #这个list要把它放在函数里面，会比较赶干净\n",
        "\n",
        "    with open(filepath, newline='', encoding='utf-8') as apple:\n",
        "        reader = csv.DictReader(apple)\n",
        "        for row in reader:\n",
        "            rating_total = int(row['rating_count_tot'])\n",
        "            if rating_total > 100000:\n",
        "                result.append(row['track_name'])\n",
        "                #这里主要两个核心keytakeaway，1.当我们append时，我们要拿符合条件的indicator（EG.apps的名字的话，写法一定要加 row['track_name'],没有的话只会输出 你填的 trackname\n",
        "\n",
        "\n",
        "\n",
        "    print(\"Popular apps rating count\", len(result)) #这里的len主要是为了计算总共有多少个符合条件的row，类似count这样的方式不过可以用len来算\n",
        "    #还有这里的print不要放在 if的内部，不然会一直跑一直跑，跑一大堆output知道loop完为止\n",
        "\n",
        "    print(result) #这里的result 经过append后，把trackname append进去后输出的result\n",
        "\n",
        "\n",
        "rating_total(r'C:\\Users\\haojie.ho\\Desktop\\Python learning\\AppleStore.csv')\n",
        "#这里就是调用函数的方法，写了函数名字后再写filepath，主要是因为你的def一开始就这样写了，所以就这样用"
      ],
      "id": "e77413792af1a762",
      "outputs": [
        {
          "name": "stdout",
          "output_type": "stream",
          "text": [
            "Popular apps rating count 218\n",
            "['Evernote - stay organized', 'WeatherBug - Local Weather, Radar, Maps, Alerts', 'eBay: Best App to Buy, Sell, Save! Online Shopping', 'Bible', 'PayPal - Send and request money safely', 'Pandora - Music & Radio', 'SCRABBLE Premium', 'Google – Search made just for mobile', 'Bank of America - Mobile Banking', 'Facebook', 'Yelp - Nearby Restaurants, Shopping & Services', 'Shazam - Discover music, artists, videos & lyrics', 'Yahoo Sports - Teams, Scores, News & Highlights', 'iTranslate - Language Translator & Dictionary', 'Blackjack by MobilityWare', 'iHeartRadio – Free Music & Radio Stations', 'Google Earth', 'PAC-MAN', 'The Weather Channel: Forecast, Radar & Alerts', 'OpenTable - Restaurant Reservations', 'Lose It! – Weight Loss Program and Calorie Counter', 'Target', 'Amazon App: shop, scan, compare, and read reviews', 'Chase Mobile℠', 'Allrecipes Dinner Spinner', 'AccuWeather - Weather for Life', 'Mint: Personal Finance, Budget, Bills & Money', 'Pocket God', 'Kindle – Read eBooks, Magazines & Textbooks', 'Beer Pong Game', 'Skype for iPhone', 'Tumblr', 'Doodle Jump', 'Fandango Movies - Times + Tickets', 'Dictionary.com Dictionary & Thesaurus', 'The Masters Tournament', 'myAT&T', 'WhatsApp Messenger', 'Zillow Real Estate - Homes for Sale & for Rent', 'Sky Burger - Build & Match Food Free', 'Sunday Lawn', 'TextNow - Unlimited Text + Calls', 'ESPN: Get scores, news, alerts & watch live sports', 'Guess My Age \\ue020 Math Magic', 'Sleep Cycle alarm clock', 'Traffic Rush', 'MyRadar NOAA Weather Radar Forecast', 'Waze - GPS Navigation, Maps & Real-time Traffic', 'Spotify Music', 'Mad Libs', 'Yahoo Fantasy Sports', 'Starbucks', 'Weight Watchers', 'CNN: Breaking US & World News, Live Video', 'TRUTH or DARE!!! - FREE', 'Twitter', 'SoundCloud - Music & Audio', 'Calorie Counter & Diet Tracker by MyFitnessPal', 'IMDb Movies & TV - Trailers and Showtimes', 'Angry Birds', 'Glow Hockey 2 FREE', 'Plants vs. Zombies', 'Groupon - Deals, Coupons & Discount Shopping App', 'Kik', 'Solitaire', 'Fruit Ninja Classic', 'Plants vs. Zombies HD', 'Netflix', 'The Weather Channel App for iPad – best local forecast, radar map, and storm tracking', '▻Sudoku', 'Fox News', 'Audible – audio books, original series & podcasts', 'Flashlight Ⓞ', 'Viber Messenger – Text & Call', 'shopkick - Shopping Rewards & Discounts', 'Infinity Blade', 'Instagram', 'Zappos: shop shoes & clothes, fast free shipping', 'Spider Solitaire Free by MobilityWare', 'Text Free: Free Texting + Calling + MMS', 'Fruit Ninja®', 'GasBuddy', 'My Verizon', 'Tiny Wings', 'TuneIn Radio - MLB NBA Audiobooks Podcasts Music', 'Temple Run', 'Angry Birds Rio', 'My Horse', 'Magic Piano by Smule', 'Tiny Tower - Free City Building', 'Gmail - email by Google: secure, fast & organized', 'ooVoo – Free Video Call, Text and Voice', 'WatchESPN', 'Pinterest', 'ROBLOX', \"Domino's Pizza USA\", 'Magic Jigsaw Puzzles', 'DragonVale', 'Racing Penguin Free - Top Flying and Diving Game', 'Snapchat', 'Infinity Blade II', 'Pic Collage - Picture Editor & Photo Collage Maker', \"Where's My Water?\", 'Messenger', 'Jetpack Joyride', 'Twitch', 'The Sims™ FreePlay', 'CSR Racing', 'Bejeweled Blitz', 'Call of Duty: Black Ops Zombies', '⋆Solitaire', 'Minecraft: Pocket Edition', 'Bejeweled Classic', 'DoubleDown Casino & Slots  – Vegas Slot Machines!', 'Head Soccer', 'Draw Something', 'Action Movie FX', 'Highway Rider', 'Jigsaw Puzzle', 'The Simpsons™: Tapped Out', 'Clear Vision (17+)', '▻Solitaire', 'Hay Day', 'Smule Sing!', 'Bike Race - Top Motorcycle Racing Games', 'Amazon Music', 'Subway Surfers', 'Credit Karma: Free Credit Scores, Reports & Alerts', 'My Singing Monsters', 'Plague Inc.', 'Flow Free', 'Clash of Clans', 'Wish - Shopping Made Fun', 'Bubble Mania™', 'Big Fish Casino – Best Vegas Slot Machines & Games', 'The Secret Society® - Hidden Mystery', '8 Ball Pool™', 'YouTube - Watch Videos, Music, and Live Streams', 'Tinder', 'The Room', 'Followers - Social Analytics For Instagram', 'Candy Crush Saga', 'Real Racing 3', 'Clumsy Ninja', 'Dragon City Mobile', 'Hill Climb Racing', 'Duolingo - Learn Spanish, French and more', 'Daily Celebrity Crossword', 'Temple Run 2', 'Beat the Boss 2', 'Injustice: Gods Among Us', 'Yahoo Mail - Keeps You Organized!', 'Sonic Dash', 'Deer Hunter Classic', 'Google Maps - Navigation & Transit', 'Despicable Me: Minion Rush', 'Real Basketball', 'Plants vs. Zombies™ 2', \"Pictoword: Fun 2 Pics Guess What's the Word Trivia\", 'Smash Hit', 'Iron Force', 'Farm Heroes Saga', 'Asphalt 8: Airborne', 'Village Life: Love, Marriage and Babies', 'Geometry Dash', 'MLB.com Home Run Derby 17', 'Yahoo Weather', 'Tetris® Blitz', 'Sniper Shooter: Gun Shooting Games', 'Dumb Ways to Die', 'Pixel Gun 3D', 'Trivia Crack', 'Monster Legends RPG - War, Fight & Heroes Game', 'Episode - Choose Your Story', 'My Talking Tom', 'Can You Escape', 'Game of War - Fire Age', 'Boom Beach', 'Fairway Solitaire Blast', 'Geometry Dash Lite', 'WordBrain', 'Cooking Fever', 'Jurassic World™: The Game', 'Words with Friends – Best Word Game', 'musical.ly - your video social network', 'Family Guy: The Quest for Stuff', '2048', 'Funimate video editor: add cool effects to videos', 'Star Wars™: Commander', \"Piano Tiles (Don't Tap The White Tile)\", 'Candy Crush Soda Saga', 'Summoners War', 'MADDEN NFL Mobile', 'Kim Kardashian: Hollywood', 'Angry Birds Transformers', 'Angry Birds 2', 'Two Dots', 'CSR Racing 2', 'MARVEL Contest of Champions', 'Call of Duty®: Heroes', 'aa', 'SimCity BuildIt', 'Star Wars™: Galaxy of Heroes', 'Crossy Road - Endless Arcade Hopper', 'AdVenture Capitalist', 'Sniper 3D Assassin: Shoot to Kill Gun Game', 'MORTAL KOMBAT X', 'ZigZag', 'Fallout Shelter', 'Agar.io', 'Colorfy: Coloring Book for Adults', 'Geometry Dash Meltdown', 'Clash Royale', 'Color Switch', 'slither.io', 'Pokémon GO', 'Bowmasters - Top Multiplayer Bowman Archery Game', 'Word Cookies!']\n"
          ]
        }
      ],
      "execution_count": null
    },
    {
      "metadata": {
        "ExecuteTime": {
          "end_time": "2025-05-29T06:51:51.430513Z",
          "start_time": "2025-05-29T06:51:51.393120Z"
        },
        "id": "6436be8fe0847c9f",
        "outputId": "efc4dd69-a6d1-4dc4-8d4d-3cc9b3a143f4"
      },
      "cell_type": "code",
      "source": [
        "#应用场景：主要拿来算不同category里出现的数值有多少，使用count来achieve目标\n",
        "\n",
        "import csv\n",
        "\n",
        "def count_by_content_restriction(filepath):\n",
        "    count = {}\n",
        "\n",
        "    with open(filepath, newline='', encoding='utf-8') as apple:\n",
        "        reader = csv.DictReader(apple)\n",
        "        for row in reader:\n",
        "            cr = row['prime_genre']\n",
        "            if cr in count:\n",
        "                count[cr] += 1\n",
        "            else:\n",
        "                count[cr] = 1\n",
        "\n",
        "    for cr,num in count.items():\n",
        "        print(f'{cr}: {num}')\n",
        "\n",
        "count_by_content_restriction(r'C:\\Users\\haojie.ho\\Desktop\\Python learning\\AppleStore.csv')"
      ],
      "id": "6436be8fe0847c9f",
      "outputs": [
        {
          "name": "stdout",
          "output_type": "stream",
          "text": [
            "Games: 3862\n",
            "Productivity: 178\n",
            "Weather: 72\n",
            "Shopping: 122\n",
            "Reference: 64\n",
            "Finance: 104\n",
            "Music: 138\n",
            "Utilities: 248\n",
            "Travel: 81\n",
            "Social Networking: 167\n",
            "Sports: 114\n",
            "Business: 57\n",
            "Health & Fitness: 180\n",
            "Entertainment: 535\n",
            "Photo & Video: 349\n",
            "Navigation: 46\n",
            "Education: 453\n",
            "Lifestyle: 144\n",
            "Food & Drink: 63\n",
            "News: 75\n",
            "Book: 112\n",
            "Medical: 23\n",
            "Catalogs: 10\n"
          ]
        }
      ],
      "execution_count": null
    },
    {
      "metadata": {
        "ExecuteTime": {
          "end_time": "2025-05-28T06:57:35.055064Z",
          "start_time": "2025-05-28T06:57:35.022004Z"
        },
        "id": "2cbc0552eb955903",
        "outputId": "8f58f2f3-fd50-4248-d436-9e3a19a12b57"
      },
      "cell_type": "code",
      "source": [
        "#应用场景：主要着重在你只想要找最大和最小的数值的行列，然后参考数值（attribute）你决定后，再去做初始化，很重要\n",
        "#初始化主要是要先 assign variables给相关的attributes\n",
        "import csv\n",
        "\n",
        "def find_size_extremes(filepath):\n",
        "    with open(filepath, newline='', encoding='utf-8') as apple:\n",
        "        reader = csv.DictReader(apple) #dictreader 这个function会直接把第一行当作header，所以不会出error\n",
        "        first = next(reader) #首先这里说的是先assign属性给first，然后next(reader)的话基本上就是除了第一行，拿剩下的，因为他已经把第一行作为基准\n",
        "        max_size = min_size = int(first['size_bytes']) #那这里话因为first已经被赋予属性，然后就把它换成interger后同时赋值于max&min的variables\n",
        "        max_app = min_app = first['track_name'] #这里的也是，只是要名字而已\n",
        "\n",
        "        for row in reader:\n",
        "            size = int(row['size_bytes'])\n",
        "            if size > max_size: #如果loop时size打过max size，也就是上面next的提取的第一行数据，就会assign给size\n",
        "                max_size = size #这里会赋值回来\n",
        "                max_app = row['track_name'] #后续再拿apps的名字\n",
        "\n",
        "            if size < min_size: #这里就同上，只是相反拿最小的\n",
        "                min_size = size\n",
        "                min_app = row['track_name']\n",
        "\n",
        "        print(f\"Max size is: {max_app}({max_size}bytes)\")\n",
        "        print(f\"Min size is: {min_app}({min_size}bytes)\")\n",
        "\n",
        "find_size_extremes(r'C:\\Users\\haojie.ho\\Desktop\\Python learning\\AppleStore.csv')"
      ],
      "id": "2cbc0552eb955903",
      "outputs": [
        {
          "name": "stdout",
          "output_type": "stream",
          "text": [
            "Max size is: ROME: Total War(4025969664bytes)\n",
            "Min size is: GraphModeling(589824bytes)\n"
          ]
        }
      ],
      "execution_count": null
    },
    {
      "metadata": {
        "ExecuteTime": {
          "end_time": "2025-05-29T03:07:57.642248Z",
          "start_time": "2025-05-29T03:07:57.605583Z"
        },
        "id": "70d7dced1717eb01",
        "outputId": "dd717336-cec0-4bd8-9415-eb1303f65d49"
      },
      "cell_type": "code",
      "source": [
        "import csv\n",
        "\n",
        "def difference_rating_user(filepath):\n",
        "\n",
        "    free_sum = free_count = 0\n",
        "    low_sum = low_count = 0\n",
        "    mid_sum = mid_count = 0\n",
        "    high_sum = high_count = 0\n",
        "\n",
        "    with open(filepath, newline='', encoding='utf-8') as apple:\n",
        "        reader = csv.DictReader(apple)\n",
        "        for row in reader:\n",
        "            price = float(row['price'])\n",
        "            rating = float(row['user_rating'])\n",
        "\n",
        "            if price == 0:\n",
        "                free_sum += rating\n",
        "                free_count += 1\n",
        "            elif price <= 1:\n",
        "                low_sum += rating\n",
        "                low_count += 1\n",
        "            elif price <= 3:\n",
        "                mid_sum += rating\n",
        "                mid_count += 1\n",
        "            else:\n",
        "                high_sum += rating\n",
        "                high_count += 1\n",
        "\n",
        "        if free_count > 0: print(f\"Free game, Avg Rating:{free_sum/free_count:.2f}\")\n",
        "        if low_count > 0: print(f\"Low game, Avg Rating:{low_sum/low_count:.2f}\")\n",
        "        if mid_count > 0 : print(f\"Mid game, Avg Rating:{mid_sum/mid_count:.2f}\")\n",
        "        if high_count > 0 : print(f\"High game, Avg Rating:{high_sum/high_count:.2f}\")\n",
        "\n",
        "difference_rating_user(r'C:\\Users\\haojie.ho\\Desktop\\Python learning\\AppleStore.csv')"
      ],
      "id": "70d7dced1717eb01",
      "outputs": [
        {
          "name": "stdout",
          "output_type": "stream",
          "text": [
            "Free game, Avg Rating:3.38\n",
            "Low game, Avg Rating:3.46\n",
            "Mid game, Avg Rating:3.82\n",
            "High game, Avg Rating:3.78\n"
          ]
        }
      ],
      "execution_count": null
    },
    {
      "metadata": {
        "ExecuteTime": {
          "end_time": "2025-05-29T06:43:12.889036Z",
          "start_time": "2025-05-29T06:43:12.856245Z"
        },
        "id": "40971354617968df",
        "outputId": "6611eba1-100e-4cf1-8709-5860a3d9f86e"
      },
      "cell_type": "code",
      "source": [
        "#总结这个能做是什么， 这一段code主要perform的用处是可以在几万几十万几百万的行列里找到 每一个catergory里的 最大，最小的值，然后主要in key:value form\\\n",
        "\n",
        "import csv\n",
        "\n",
        "def find_the_best_apps(filepath):\n",
        "    with open(filepath, newline='', encoding='utf-8') as apple:\n",
        "        reader = csv.DictReader(apple)\n",
        "\n",
        "        best = {}\n",
        "\n",
        "        for row in reader:\n",
        "            prime = row['prime_genre']\n",
        "            apps_name = row['track_name']\n",
        "            rating = float(row['user_rating'])\n",
        "\n",
        "            if prime not in best:\n",
        "            #为什么这样写呢，首先这里会loop prime，因为dict的属性是空的然后下面一行代码就是告诉python要怎么把我想要的attributes哪一个作为key\n",
        "            #哪一个作为value存进去，然而这里要做的是要通过如果得到一样的prime就要proceed去else的代码\n",
        "            #那如果没暂时还没得到这个prime时，而是新型的data，就会先初始化这个key，然后根据下面那一行代码来储存\n",
        "                best[prime] = (apps_name, rating) #[key]:value\n",
        "                #这里叫tuple, 注意上面并没有state要什么key，只是放了一个dict而已，所以从这里开始define我要的attributes作为我要的key:value\n",
        "            else:\n",
        "                _, existing_rate = best[prime]\n",
        "                #可以注意这里的逗号，他是一个dict的形式，主要告诉python这个underscore是为了skip掉这里key的元素，只比较rating\n",
        "                if rating > existing_rate:\n",
        "                   best[prime] = (apps_name, rating)\n",
        "\n",
        "                #接下来的行列里如果遇到一样的prime就会看rating是否高过一开始的那个prime:rate,如果高过，就会替代原本的prime：rate\n",
        "\n",
        "\n",
        "        for prime, (apps_name,rating) in best.items():\n",
        "            print(f'{prime}:{apps_name}(Rating:{rating:.2f})')\n",
        "        print(len(best))\n",
        "\n",
        "find_the_best_apps(r'C:\\Users\\haojie.ho\\Desktop\\Python learning\\AppleStore.csv')\n"
      ],
      "id": "40971354617968df",
      "outputs": [
        {
          "name": "stdout",
          "output_type": "stream",
          "text": [
            "Games::) Sudoku +(Rating:5.00)\n",
            "Productivity:Kurumaki Calendar -month scroll calendar-(Rating:5.00)\n",
            "Weather:NOAA Hi-Def Radar Pro -  Storm Warnings, Hurricane Tracker & Weather Forecast(Rating:5.00)\n",
            "Shopping:Zappos: shop shoes & clothes, fast free shipping(Rating:5.00)\n",
            "Reference:CCW – Concealed Carry 50 State Guide(Rating:5.00)\n",
            "Finance:Timeshare+(Rating:5.00)\n",
            "Music:Tenuto(Rating:5.00)\n",
            "Utilities:Flashlight Ⓞ(Rating:5.00)\n",
            "Travel:驴妈妈旅游-订景点门票机票火车票特价酒店(Rating:5.00)\n",
            "Social Networking:We Heart It - Fashion, wallpapers, quotes, tattoos(Rating:5.00)\n",
            "Sports:J23 - Jordan Release Dates and History(Rating:5.00)\n",
            "Business:TurboScan™ Pro - document & receipt scanner: scan multiple pages and photos to PDF(Rating:5.00)\n",
            "Health & Fitness:Bodyweight Training: You Are Your Own Gym(Rating:5.00)\n",
            "Entertainment:内涵段子 - 精选搞笑图片、视频(Rating:5.00)\n",
            "Photo & Video:The Photographer's Ephemeris(Rating:5.00)\n",
            "Navigation:parkOmator – for Apple Watch meter expiration timer, notifications & GPS navigator to car location(Rating:5.00)\n",
            "Education:Learn to Speak Spanish Fast With MosaLingua(Rating:5.00)\n",
            "Lifestyle:Daily Audio Bible App(Rating:5.00)\n",
            "Food & Drink:Domino's Pizza USA(Rating:5.00)\n",
            "News:The Guardian(Rating:5.00)\n",
            "Book:planetarian - Dream of Little Star -(Rating:5.00)\n",
            "Medical:Eye Training Cocololo-3dステレオグラム視力回復アプリ-(Rating:5.00)\n",
            "Catalogs:CPlus for Craigslist app - mobile classifieds(Rating:5.00)\n",
            "23\n"
          ]
        }
      ],
      "execution_count": null
    },
    {
      "metadata": {
        "ExecuteTime": {
          "end_time": "2025-05-29T08:02:04.863095Z",
          "start_time": "2025-05-29T08:02:04.822351Z"
        },
        "id": "d951d6e0f91884a",
        "outputId": "e556d16f-6372-4fe7-8fab-a4f890baed54"
      },
      "cell_type": "code",
      "source": [
        "import csv\n",
        "\n",
        "def top_two_content_ratings(filepath):\n",
        "\n",
        "    counts = {}\n",
        "\n",
        "    with open(filepath, newline='', encoding='utf-8') as apple:\n",
        "        reader = csv.DictReader(apple)\n",
        "        for row in reader:\n",
        "            cr = row['cont_rating'] #注意到这里了吗，经过了那么多练习一个很重要的事情就是先要告诉python你要用到哪一个column去做什么事情\n",
        "            if cr in counts:\n",
        "                counts[cr] +=1\n",
        "            else:\n",
        "                counts[cr] = 1\n",
        "\n",
        "    items = list(counts.items()) #dict.items\n",
        "    print(items)\n",
        "    #这里是把算出来的答案变成list，例如 Rating: (17+,622), 会变成tuple，至于为什么要用tuple因为接下来的代码是不会更改这个list的\n",
        "\n",
        "    listed_items = sorted(items, key=lambda x: x[1], reverse=True)\n",
        "\n",
        "    top1 = listed_items[0]\n",
        "    top2 = listed_items[1]\n",
        "\n",
        "    print(f\"Top 1 Rating: {top1[0]}({top1[1]} apps)\")\n",
        "    print(f\"Top 2 Rating: {top2[0]}({top2[1]} apps)\")\n",
        "\n",
        "top_two_content_ratings(r'C:\\Users\\haojie.ho\\Desktop\\Python learning\\AppleStore.csv')"
      ],
      "id": "d951d6e0f91884a",
      "outputs": [
        {
          "name": "stdout",
          "output_type": "stream",
          "text": [
            "[('4+', 4433), ('12+', 1155), ('17+', 622), ('9+', 987)]\n",
            "Top 1 Rating: 4+(4433 apps)\n",
            "Top 2 Rating: 12+(1155 apps)\n"
          ]
        }
      ],
      "execution_count": null
    },
    {
      "metadata": {
        "id": "4f686d8b15766c2c"
      },
      "cell_type": "code",
      "outputs": [],
      "execution_count": null,
      "source": [],
      "id": "4f686d8b15766c2c"
    }
  ],
  "metadata": {
    "kernelspec": {
      "display_name": "Python 3",
      "language": "python",
      "name": "python3"
    },
    "language_info": {
      "codemirror_mode": {
        "name": "ipython",
        "version": 2
      },
      "file_extension": ".py",
      "mimetype": "text/x-python",
      "name": "python",
      "nbconvert_exporter": "python",
      "pygments_lexer": "ipython2",
      "version": "2.7.6"
    },
    "colab": {
      "provenance": [],
      "include_colab_link": true
    }
  },
  "nbformat": 4,
  "nbformat_minor": 5
}